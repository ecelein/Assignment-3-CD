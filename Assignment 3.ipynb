{
 "cells": [
  {
   "cell_type": "code",
   "execution_count": 133,
   "metadata": {},
   "outputs": [],
   "source": [
    "import requests\n",
    "from bs4 import BeautifulSoup"
   ]
  },
  {
   "cell_type": "code",
   "execution_count": 134,
   "metadata": {},
   "outputs": [],
   "source": [
    "import pandas as pd"
   ]
  },
  {
   "cell_type": "code",
   "execution_count": 135,
   "metadata": {},
   "outputs": [],
   "source": [
    "data = {\n",
    "    \"link\": [\n",
    "            'https://www.azlyrics.com/lyrics/nineinchnails/somethingicanneverhave.html',\n",
    "            'https://www.azlyrics.com/lyrics/nineinchnails/wereinthistogether.html',\n",
    "            'https://www.azlyrics.com/lyrics/nineinchnails/thefragile.html',\n",
    "            'https://www.azlyrics.com/lyrics/nineinchnails/everydayisexactlythesame.html',\n",
    "            'https://www.azlyrics.com/lyrics/nineinchnails/thehandthatfeeds.html'\n",
    "    ]\n",
    "}\n",
    "songs = pd.DataFrame(data)\n",
    "songs.index = songs.index + 1"
   ]
  },
  {
   "cell_type": "code",
   "execution_count": 136,
   "metadata": {},
   "outputs": [
    {
     "data": {
      "text/html": [
       "<div>\n",
       "<style scoped>\n",
       "    .dataframe tbody tr th:only-of-type {\n",
       "        vertical-align: middle;\n",
       "    }\n",
       "\n",
       "    .dataframe tbody tr th {\n",
       "        vertical-align: top;\n",
       "    }\n",
       "\n",
       "    .dataframe thead th {\n",
       "        text-align: right;\n",
       "    }\n",
       "</style>\n",
       "<table border=\"1\" class=\"dataframe\">\n",
       "  <thead>\n",
       "    <tr style=\"text-align: right;\">\n",
       "      <th></th>\n",
       "      <th>link</th>\n",
       "    </tr>\n",
       "  </thead>\n",
       "  <tbody>\n",
       "    <tr>\n",
       "      <th>1</th>\n",
       "      <td>https://www.azlyrics.com/lyrics/nineinchnails/...</td>\n",
       "    </tr>\n",
       "    <tr>\n",
       "      <th>2</th>\n",
       "      <td>https://www.azlyrics.com/lyrics/nineinchnails/...</td>\n",
       "    </tr>\n",
       "    <tr>\n",
       "      <th>3</th>\n",
       "      <td>https://www.azlyrics.com/lyrics/nineinchnails/...</td>\n",
       "    </tr>\n",
       "    <tr>\n",
       "      <th>4</th>\n",
       "      <td>https://www.azlyrics.com/lyrics/nineinchnails/...</td>\n",
       "    </tr>\n",
       "    <tr>\n",
       "      <th>5</th>\n",
       "      <td>https://www.azlyrics.com/lyrics/nineinchnails/...</td>\n",
       "    </tr>\n",
       "  </tbody>\n",
       "</table>\n",
       "</div>"
      ],
      "text/plain": [
       "                                                link\n",
       "1  https://www.azlyrics.com/lyrics/nineinchnails/...\n",
       "2  https://www.azlyrics.com/lyrics/nineinchnails/...\n",
       "3  https://www.azlyrics.com/lyrics/nineinchnails/...\n",
       "4  https://www.azlyrics.com/lyrics/nineinchnails/...\n",
       "5  https://www.azlyrics.com/lyrics/nineinchnails/..."
      ]
     },
     "execution_count": 136,
     "metadata": {},
     "output_type": "execute_result"
    }
   ],
   "source": [
    "songs"
   ]
  },
  {
   "cell_type": "code",
   "execution_count": null,
   "metadata": {},
   "outputs": [],
   "source": []
  },
  {
   "cell_type": "code",
   "execution_count": 138,
   "metadata": {
    "scrolled": false
   },
   "outputs": [
    {
     "data": {
      "text/html": [
       "<div>\n",
       "<style scoped>\n",
       "    .dataframe tbody tr th:only-of-type {\n",
       "        vertical-align: middle;\n",
       "    }\n",
       "\n",
       "    .dataframe tbody tr th {\n",
       "        vertical-align: top;\n",
       "    }\n",
       "\n",
       "    .dataframe thead th {\n",
       "        text-align: right;\n",
       "    }\n",
       "</style>\n",
       "<table border=\"1\" class=\"dataframe\">\n",
       "  <thead>\n",
       "    <tr style=\"text-align: right;\">\n",
       "      <th></th>\n",
       "      <th>link</th>\n",
       "      <th>lyrics</th>\n",
       "    </tr>\n",
       "  </thead>\n",
       "  <tbody>\n",
       "    <tr>\n",
       "      <th>1</th>\n",
       "      <td>https://www.azlyrics.com/lyrics/nineinchnails/...</td>\n",
       "      <td>I still recall the taste of your tears Echoing...</td>\n",
       "    </tr>\n",
       "    <tr>\n",
       "      <th>2</th>\n",
       "      <td>https://www.azlyrics.com/lyrics/nineinchnails/...</td>\n",
       "      <td>I've become impossible Holding on to when When...</td>\n",
       "    </tr>\n",
       "    <tr>\n",
       "      <th>3</th>\n",
       "      <td>https://www.azlyrics.com/lyrics/nineinchnails/...</td>\n",
       "      <td>She shines in a world full of ugliness She mat...</td>\n",
       "    </tr>\n",
       "    <tr>\n",
       "      <th>4</th>\n",
       "      <td>https://www.azlyrics.com/lyrics/nineinchnails/...</td>\n",
       "      <td>I believe I can see the future 'Cause I repeat...</td>\n",
       "    </tr>\n",
       "    <tr>\n",
       "      <th>5</th>\n",
       "      <td>https://www.azlyrics.com/lyrics/nineinchnails/...</td>\n",
       "      <td>You're keeping in step In the line Got your ch...</td>\n",
       "    </tr>\n",
       "  </tbody>\n",
       "</table>\n",
       "</div>"
      ],
      "text/plain": [
       "                                                link  \\\n",
       "1  https://www.azlyrics.com/lyrics/nineinchnails/...   \n",
       "2  https://www.azlyrics.com/lyrics/nineinchnails/...   \n",
       "3  https://www.azlyrics.com/lyrics/nineinchnails/...   \n",
       "4  https://www.azlyrics.com/lyrics/nineinchnails/...   \n",
       "5  https://www.azlyrics.com/lyrics/nineinchnails/...   \n",
       "\n",
       "                                              lyrics  \n",
       "1  I still recall the taste of your tears Echoing...  \n",
       "2  I've become impossible Holding on to when When...  \n",
       "3  She shines in a world full of ugliness She mat...  \n",
       "4  I believe I can see the future 'Cause I repeat...  \n",
       "5  You're keeping in step In the line Got your ch...  "
      ]
     },
     "execution_count": 138,
     "metadata": {},
     "output_type": "execute_result"
    }
   ],
   "source": [
    "def scraper(link):\n",
    "    response = requests.get(link)\n",
    "    html_string = response.text\n",
    "    document = BeautifulSoup(html_string, \"html.parser\")\n",
    "    response = requests.get(link)\n",
    "    artist = document.find(\"div\", attrs={\"class\" : \"lyricsh\"}).find('b').text.strip().replace(\"Lyrics\", \" \")\n",
    "    lyrics = document.find(\"div\", attrs={\"class\" : \"col-xs-12 col-lg-8 text-center\"}).find('div', attrs={'class':None}).text.strip().replace(\"\\n\", \" \")\n",
    "    title = document.find(\"div\", attrs={\"class\" : \"col-xs-12 col-lg-8 text-center\"}).find('h1').text.strip().replace(\"lyrics\", \" \")\n",
    "    return lyrics\n",
    "    \n",
    "songs[\"lyrics\"] = songs[\"link\"].apply(scraper)\n",
    "songs\n",
    "\n",
    "#Couldn't manage to make the rest work I would love to learn the solution though"
   ]
  },
  {
   "cell_type": "code",
   "execution_count": null,
   "metadata": {},
   "outputs": [],
   "source": []
  }
 ],
 "metadata": {
  "kernelspec": {
   "display_name": "Python 3",
   "language": "python",
   "name": "python3"
  },
  "language_info": {
   "codemirror_mode": {
    "name": "ipython",
    "version": 3
   },
   "file_extension": ".py",
   "mimetype": "text/x-python",
   "name": "python",
   "nbconvert_exporter": "python",
   "pygments_lexer": "ipython3",
   "version": "3.8.5"
  }
 },
 "nbformat": 4,
 "nbformat_minor": 4
}
